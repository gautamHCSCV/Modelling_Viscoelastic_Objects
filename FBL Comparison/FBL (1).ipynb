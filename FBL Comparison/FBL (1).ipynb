{
 "cells": [
  {
   "cell_type": "code",
   "execution_count": 15,
   "id": "5d350897",
   "metadata": {},
   "outputs": [],
   "source": [
    "import pandas as pd\n",
    "import numpy as np\n",
    "from sklearn.metrics import mean_squared_error\n",
    "import os\n",
    "from collections import defaultdict\n",
    "import bisect"
   ]
  },
  {
   "cell_type": "code",
   "execution_count": 16,
   "id": "c07c856b",
   "metadata": {},
   "outputs": [
    {
     "data": {
      "text/html": [
       "<div>\n",
       "<style scoped>\n",
       "    .dataframe tbody tr th:only-of-type {\n",
       "        vertical-align: middle;\n",
       "    }\n",
       "\n",
       "    .dataframe tbody tr th {\n",
       "        vertical-align: top;\n",
       "    }\n",
       "\n",
       "    .dataframe thead th {\n",
       "        text-align: right;\n",
       "    }\n",
       "</style>\n",
       "<table border=\"1\" class=\"dataframe\">\n",
       "  <thead>\n",
       "    <tr style=\"text-align: right;\">\n",
       "      <th></th>\n",
       "      <th>0</th>\n",
       "      <th>1</th>\n",
       "      <th>2</th>\n",
       "      <th>3</th>\n",
       "      <th>4</th>\n",
       "    </tr>\n",
       "  </thead>\n",
       "  <tbody>\n",
       "    <tr>\n",
       "      <th>0</th>\n",
       "      <td>1</td>\n",
       "      <td>-0.0000</td>\n",
       "      <td>-0.0000</td>\n",
       "      <td>0.0</td>\n",
       "      <td>0.0</td>\n",
       "    </tr>\n",
       "    <tr>\n",
       "      <th>1</th>\n",
       "      <td>1</td>\n",
       "      <td>-0.0000</td>\n",
       "      <td>-0.0000</td>\n",
       "      <td>0.0</td>\n",
       "      <td>0.0</td>\n",
       "    </tr>\n",
       "    <tr>\n",
       "      <th>2</th>\n",
       "      <td>1</td>\n",
       "      <td>-0.0159</td>\n",
       "      <td>-0.0000</td>\n",
       "      <td>-15.9</td>\n",
       "      <td>0.0</td>\n",
       "    </tr>\n",
       "    <tr>\n",
       "      <th>3</th>\n",
       "      <td>1</td>\n",
       "      <td>-0.0159</td>\n",
       "      <td>0.0171</td>\n",
       "      <td>0.0</td>\n",
       "      <td>17.1</td>\n",
       "    </tr>\n",
       "    <tr>\n",
       "      <th>4</th>\n",
       "      <td>1</td>\n",
       "      <td>-0.0159</td>\n",
       "      <td>0.0171</td>\n",
       "      <td>0.0</td>\n",
       "      <td>0.0</td>\n",
       "    </tr>\n",
       "  </tbody>\n",
       "</table>\n",
       "</div>"
      ],
      "text/plain": [
       "   0       1       2     3     4\n",
       "0  1 -0.0000 -0.0000   0.0   0.0\n",
       "1  1 -0.0000 -0.0000   0.0   0.0\n",
       "2  1 -0.0159 -0.0000 -15.9   0.0\n",
       "3  1 -0.0159  0.0171   0.0  17.1\n",
       "4  1 -0.0159  0.0171   0.0   0.0"
      ]
     },
     "execution_count": 16,
     "metadata": {},
     "output_type": "execute_result"
    }
   ],
   "source": [
    "X0 = pd.read_csv('dataset1/inp_z_final.csv', names = ['{}'.format(i) for i in range(5)])\n",
    "X0_test = pd.read_csv('dataset1/inp_z_final_test.csv', names = ['{}'.format(i) for i in range(5)])\n",
    "Y0 = pd.read_csv('dataset1/out_gk_final.csv', names = ['{}'.format(i) for i in range(2)])\n",
    "Y0_test = pd.read_csv('dataset1/out_gk_final_test.csv', names = ['{}'.format(i) for i in range(2)])\n",
    "X0.head()"
   ]
  },
  {
   "cell_type": "code",
   "execution_count": 17,
   "id": "5ca7b063",
   "metadata": {},
   "outputs": [
    {
     "name": "stdout",
     "output_type": "stream",
     "text": [
      "116448 58224\n"
     ]
    }
   ],
   "source": [
    "print(len(Y0),len(Y0_test))"
   ]
  },
  {
   "cell_type": "code",
   "execution_count": 18,
   "id": "46a2f67e",
   "metadata": {},
   "outputs": [
    {
     "data": {
      "text/html": [
       "<div>\n",
       "<style scoped>\n",
       "    .dataframe tbody tr th:only-of-type {\n",
       "        vertical-align: middle;\n",
       "    }\n",
       "\n",
       "    .dataframe tbody tr th {\n",
       "        vertical-align: top;\n",
       "    }\n",
       "\n",
       "    .dataframe thead th {\n",
       "        text-align: right;\n",
       "    }\n",
       "</style>\n",
       "<table border=\"1\" class=\"dataframe\">\n",
       "  <thead>\n",
       "    <tr style=\"text-align: right;\">\n",
       "      <th></th>\n",
       "      <th>p1</th>\n",
       "      <th>p2</th>\n",
       "      <th>v1</th>\n",
       "      <th>v2</th>\n",
       "    </tr>\n",
       "  </thead>\n",
       "  <tbody>\n",
       "    <tr>\n",
       "      <th>0</th>\n",
       "      <td>-0.0000</td>\n",
       "      <td>-0.0000</td>\n",
       "      <td>0.0000</td>\n",
       "      <td>0.0000</td>\n",
       "    </tr>\n",
       "    <tr>\n",
       "      <th>1</th>\n",
       "      <td>-0.0159</td>\n",
       "      <td>-0.0000</td>\n",
       "      <td>-0.0159</td>\n",
       "      <td>0.0000</td>\n",
       "    </tr>\n",
       "    <tr>\n",
       "      <th>2</th>\n",
       "      <td>-0.0159</td>\n",
       "      <td>0.0171</td>\n",
       "      <td>0.0000</td>\n",
       "      <td>0.0171</td>\n",
       "    </tr>\n",
       "    <tr>\n",
       "      <th>3</th>\n",
       "      <td>-0.0159</td>\n",
       "      <td>0.0171</td>\n",
       "      <td>0.0000</td>\n",
       "      <td>0.0000</td>\n",
       "    </tr>\n",
       "    <tr>\n",
       "      <th>4</th>\n",
       "      <td>-0.0000</td>\n",
       "      <td>0.0329</td>\n",
       "      <td>0.0159</td>\n",
       "      <td>0.0158</td>\n",
       "    </tr>\n",
       "  </tbody>\n",
       "</table>\n",
       "</div>"
      ],
      "text/plain": [
       "       p1      p2      v1      v2\n",
       "0 -0.0000 -0.0000  0.0000  0.0000\n",
       "1 -0.0159 -0.0000 -0.0159  0.0000\n",
       "2 -0.0159  0.0171  0.0000  0.0171\n",
       "3 -0.0159  0.0171  0.0000  0.0000\n",
       "4 -0.0000  0.0329  0.0159  0.0158"
      ]
     },
     "execution_count": 18,
     "metadata": {},
     "output_type": "execute_result"
    }
   ],
   "source": [
    "path = 'dataset_corrected/'\n",
    "x1_train = pd.read_csv(path+'c_data_x1_train.csv')\n",
    "x2_train = pd.read_csv(path+'c_data_x2_train.csv')\n",
    "y_train = pd.read_csv(path+'c_data_f1_train.csv')\n",
    "y_test = pd.read_csv(path+'c_data_f1_test.csv')\n",
    "x1_test = pd.read_csv(path+'c_data_x1_test.csv')\n",
    "x2_test = pd.read_csv(path+'c_data_x2_test.csv')\n",
    "\n",
    "v1_train = pd.read_csv(path+'c_vel_x1_train.csv')\n",
    "v1_test = pd.read_csv(path+'c_vel_x1_test.csv')\n",
    "v2_train = pd.read_csv(path+'c_vel_x2_train.csv')\n",
    "v2_test = pd.read_csv(path+'c_vel_x2_test.csv')\n",
    "\n",
    "X_train = pd.DataFrame(data = np.concatenate((x1_train,x2_train,v1_train,v2_train),axis=1),columns = ['p1','p2','v1','v2'])\n",
    "X_test = pd.DataFrame(data = np.concatenate((x1_test,x2_test,v1_test,v2_test),axis=1),columns = ['p1','p2','v1','v2'])\n",
    "#y_train, y_test = np.array(y_train),np.array(y_test)\n",
    "X_train.head()"
   ]
  },
  {
   "cell_type": "code",
   "execution_count": 19,
   "id": "31b7486d",
   "metadata": {},
   "outputs": [],
   "source": [
    "from scipy import *\n",
    "from scipy.linalg import norm, pinv\n",
    "import math\n",
    "from sklearn.linear_model import LinearRegression\n",
    "\n",
    "from matplotlib import pyplot as plt\n",
    "\n",
    "# y = Wx + P\n",
    "class RBF:\n",
    "     \n",
    "    def __init__(self, indim, outdim, center_inds):\n",
    "        self.indim = indim\n",
    "        self.center_inds = center_inds\n",
    "        self.outdim = outdim\n",
    "        self.numCenters = len(self.center_inds)\n",
    "        self.centers = [np.random.uniform(-1, 1, indim) for i in range(self.numCenters)]\n",
    "        self.W = np.random.random((self.numCenters, self.outdim))\n",
    "        self.P = LinearRegression()\n",
    "        self.lr = LinearRegression()\n",
    "         \n",
    "    def _basisfunc(self, c, d):\n",
    "        assert len(d) == self.indim\n",
    "        return norm(c-d)**1.5\n",
    "     \n",
    "    def _calcAct(self, X):\n",
    "        # calculate activations of RBFs\n",
    "        G = np.zeros((X.shape[0], self.numCenters), float)\n",
    "        for ci, c in enumerate(self.centers):\n",
    "            for xi, x in enumerate(X):\n",
    "                G[xi,ci] = self._basisfunc(c, x)\n",
    "        return G\n",
    "     \n",
    "    def train(self, X, Y):\n",
    "        \"\"\" X: matrix of dimensions n x indim \n",
    "            y: column vector of dimension n x 1 \"\"\"\n",
    "         \n",
    "        # choose random center vectors from training set\n",
    "        self.P.fit(X,Y)\n",
    "        rnd_idx = self.center_inds\n",
    "        self.centers = [X[i,:] for i in rnd_idx]\n",
    "         \n",
    "        # print(\"center\", self.centers)\n",
    "        # calculate activations of RBFs\n",
    "        G = self._calcAct(X)\n",
    "        # print(G) \n",
    "        # calculate output weights (pseudoinverse)\n",
    "        self.W = np.dot(pinv(G), Y)\n",
    "        val = np.zeros((len(X),2))\n",
    "        val[:,0] = np.dot(G, self.W)\n",
    "        val[:,1] = self.P.predict(X)\n",
    "        # print(val.shape)\n",
    "        self.lr.fit(val,Y)\n",
    "        \n",
    "         \n",
    "    def test(self, X):\n",
    "        \"\"\" X: matrix of dimensions n x indim \"\"\"\n",
    "         \n",
    "        G = self._calcAct(X)\n",
    "        Y = np.dot(G, self.W)\n",
    "        Y2 = self.P.predict(X)\n",
    "        val = np.zeros((len(X),2))\n",
    "        val[:,0] = Y\n",
    "        val[:,1] = Y2\n",
    "        return self.lr.predict(val)"
   ]
  },
  {
   "cell_type": "code",
   "execution_count": 20,
   "id": "9c855ec0",
   "metadata": {},
   "outputs": [],
   "source": [
    "def FBL(value):\n",
    "    start,end = bisect.bisect_left(Y0.iloc[:,0],value), bisect.bisect_right(Y0.iloc[:,0],value)\n",
    "    x = np.array(X_train.iloc[start:end,:])\n",
    "    y = np.array(y_train.iloc[start:end,0])\n",
    "    \n",
    "    centers_ind = [1]\n",
    "    got = defaultdict(lambda : 1)\n",
    "    got[1]=0\n",
    "    if 1 == 1:\n",
    "        rbf = RBF(4, 1,centers_ind)\n",
    "        rbf.train(x, y)\n",
    "\n",
    "        y1 = rbf.test(x)\n",
    "        maxi,ind = 0,0\n",
    "        for i in range(len(y)):\n",
    "            if i not in centers_ind and norm(y[i]-y1[i])/(1+norm(y[i]))>maxi:\n",
    "                maxi = norm(y[i]-y1[i])/(1+norm(y[i]))\n",
    "                ind = i\n",
    "        p = 0.7\n",
    "        error = mean_squared_error(y,y1)**p\n",
    "        while error<0.15 and p>0:\n",
    "            p -= 0.01\n",
    "            error = mean_squared_error(y,y1)**p\n",
    "        while error>0.15 and len(centers_ind)<len(y)//5:\n",
    "            centers_ind.append(ind)\n",
    "            for j in range(ind-3,ind+3):\n",
    "                got[j]=0\n",
    "            rbf = RBF(4, 1, centers_ind)\n",
    "            rbf.train(x,y)\n",
    "\n",
    "            y1 = rbf.test(x)\n",
    "\n",
    "            maxi,ind = 0,0\n",
    "            for i in range(len(y)):\n",
    "                if got[i] and norm(y[i]-y1[i])/(1+norm(y[i]))>maxi:\n",
    "                    maxi = norm(y[i]-y1[i])/(1+norm(y[i]))\n",
    "                    ind = i\n",
    "            error = mean_squared_error(y,y1)**p\n",
    "            #print(error,ind)\n",
    "        #print(centers_ind)\n",
    "        return centers_ind,start"
   ]
  },
  {
   "cell_type": "code",
   "execution_count": 38,
   "id": "8ea38cf3",
   "metadata": {},
   "outputs": [
    {
     "name": "stdout",
     "output_type": "stream",
     "text": [
      "21 4 3 12 22 2 2 2 14 2 2 "
     ]
    }
   ],
   "source": [
    "Final_indices = []\n",
    "important_interactions = [2, 79, 91, 86, 82, 100, 11, 103, 7, 23, 26]\n",
    "\n",
    "for i in important_interactions:\n",
    "    points, val = FBL(i)\n",
    "    print(len(points), end = ' ')\n",
    "    for j in points:\n",
    "        Final_indices.append(j+val)\n"
   ]
  },
  {
   "cell_type": "code",
   "execution_count": 39,
   "id": "32dea9f6",
   "metadata": {},
   "outputs": [
    {
     "data": {
      "text/plain": [
       "86"
      ]
     },
     "execution_count": 39,
     "metadata": {},
     "output_type": "execute_result"
    }
   ],
   "source": [
    "len(Final_indices)"
   ]
  },
  {
   "cell_type": "code",
   "execution_count": 23,
   "id": "d330439b",
   "metadata": {},
   "outputs": [],
   "source": [
    "class RBF1:\n",
    "     \n",
    "    def __init__(self, indim,outdim, centers_ind):\n",
    "        self.indim = indim\n",
    "        self.outdim = outdim\n",
    "        self.numCenters = len(centers_ind)\n",
    "        self.centers_ind = centers_ind\n",
    "        self.centers = [np.random.uniform(-1, 1, indim) for i in range(self.numCenters)]\n",
    "        self.beta = 8\n",
    "        self.W = np.random.random((self.numCenters, self.outdim))\n",
    "         \n",
    "    def _basisfunc(self, c, d):\n",
    "        assert len(d) == self.indim\n",
    "        return norm(c-d)**3\n",
    "     \n",
    "    def _calcAct(self, X):\n",
    "        # calculate activations of RBFs\n",
    "        G = np.zeros((X.shape[0], self.numCenters), float)\n",
    "        for ci, c in enumerate(self.centers):\n",
    "            for xi, x in enumerate(X):\n",
    "                G[xi,ci] = self._basisfunc(c, x)\n",
    "        return G\n",
    "     \n",
    "    def train(self, X, Y):\n",
    "        \"\"\" X: matrix of dimensions n x indim \n",
    "            y: column vector of dimension n x 1 \"\"\"\n",
    "         \n",
    "        # choose random center vectors from training set\n",
    "        rnd_idx = self.centers_ind\n",
    "        self.centers = [X[i,:] for i in rnd_idx]\n",
    "         \n",
    "        #print(\"center\", self.centers)\n",
    "        # calculate activations of RBFs\n",
    "        G = self._calcAct(X)\n",
    "        #print(G)\n",
    "         \n",
    "        # calculate output weights (pseudoinverse)\n",
    "        self.W = np.dot(pinv(G), Y)\n",
    "         \n",
    "    def test(self, X):\n",
    "        \"\"\" X: matrix of dimensions n x indim \"\"\"\n",
    "         \n",
    "        G = self._calcAct(X)\n",
    "        Y = np.dot(G, self.W)\n",
    "        return Y"
   ]
  },
  {
   "cell_type": "code",
   "execution_count": 40,
   "id": "85e0522e",
   "metadata": {},
   "outputs": [],
   "source": [
    "x = np.array(X_train)\n",
    "y = np.array(y_train.iloc[:,0])\n",
    "\n",
    "rbf = RBF1(4, 1,Final_indices)\n",
    "rbf.train(x, y)"
   ]
  },
  {
   "cell_type": "code",
   "execution_count": 41,
   "id": "2d1d67b9",
   "metadata": {},
   "outputs": [
    {
     "name": "stdout",
     "output_type": "stream",
     "text": [
      "Root Mean Squared error:  0.0061960862486271405\n"
     ]
    }
   ],
   "source": [
    "x_test = np.array(X_test)\n",
    "y_test = np.array(y_test)\n",
    "y1 = rbf.test(x_test)\n",
    "print('Root Mean Squared error: ', mean_squared_error(y_test,y1))"
   ]
  },
  {
   "cell_type": "code",
   "execution_count": 42,
   "id": "e91a42ef",
   "metadata": {},
   "outputs": [
    {
     "data": {
      "image/png": "[encoded data removed]",
      "text/plain": [
       "<Figure size 1440x360 with 1 Axes>"
      ]
     },
     "metadata": {
      "needs_background": "light"
     },
     "output_type": "display_data"
    }
   ],
   "source": [
    "import matplotlib.pyplot as plt\n",
    "plt.figure(figsize=(20,5))\n",
    "plt.plot(list(range(6000)),y1[:6000], label = 'FBL')\n",
    "plt.plot(list(range(6000)),y_test[:6000], label = 'Actual')\n",
    "plt.legend()\n",
    "plt.xlabel('Time (in ms)')\n",
    "plt.ylabel('Force')\n",
    "plt.title('RBF based on FBL')\n",
    "plt.show()"
   ]
  },
  {
   "cell_type": "code",
   "execution_count": 43,
   "id": "9b2ef5c9",
   "metadata": {},
   "outputs": [
    {
     "name": "stdout",
     "output_type": "stream",
     "text": [
      "Minimum Error = 2.8843452537340034e-08\n",
      "Maximum Error = 0.5689549893252552\n",
      "Median Value of Error = 0.036853580445220635\n"
     ]
    }
   ],
   "source": [
    "error5 = []\n",
    "for i in range(len(y_test)):\n",
    "    error5.append(abs(y1[i]-y_test[i,0]))\n",
    "print('Minimum Error =',min(error5))\n",
    "print('Maximum Error =',max(error5))\n",
    "error6 = sorted(error5)\n",
    "print('Median Value of Error =',error6[len(error5)//2])"
   ]
  }
 ],
 "metadata": {
  "kernelspec": {
   "display_name": "Python 3 (ipykernel)",
   "language": "python",
   "name": "python3"
  },
  "language_info": {
   "codemirror_mode": {
    "name": "ipython",
    "version": 3
   },
   "file_extension": ".py",
   "mimetype": "text/x-python",
   "name": "python",
   "nbconvert_exporter": "python",
   "pygments_lexer": "ipython3",
   "version": "3.7.3"
  }
 },
 "nbformat": 4,
 "nbformat_minor": 5
}
