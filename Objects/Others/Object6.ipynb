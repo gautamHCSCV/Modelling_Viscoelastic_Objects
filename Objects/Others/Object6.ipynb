{
 "cells": [
  {
   "cell_type": "code",
   "execution_count": 1,
   "id": "013642b4",
   "metadata": {},
   "outputs": [],
   "source": [
    "import os\n",
    "import numpy as np\n",
    "import pandas as pd\n",
    "import matplotlib.pyplot as plt\n",
    "from sklearn.ensemble import RandomForestRegressor\n",
    "from datetime import datetime\n",
    "from sklearn.metrics import mean_squared_error\n",
    "from math import sqrt\n",
    "from sklearn.linear_model import OrthogonalMatchingPursuit, OrthogonalMatchingPursuitCV\n",
    "from sklearn.ensemble import VotingRegressor, BaggingRegressor\n",
    "from sklearn.svm import SVR\n",
    "from catboost import CatBoostRegressor\n",
    "from matplotlib.ticker import MaxNLocator\n",
    "import warnings\n",
    "warnings.filterwarnings('ignore')"
   ]
  },
  {
   "cell_type": "markdown",
   "id": "d002518e",
   "metadata": {},
   "source": [
    "# Deformation"
   ]
  },
  {
   "cell_type": "code",
   "execution_count": 2,
   "id": "a0208bd4",
   "metadata": {},
   "outputs": [
    {
     "name": "stdout",
     "output_type": "stream",
     "text": [
      "116447 58223 116447 58223\n"
     ]
    },
    {
     "data": {
      "text/plain": [
       "(116447, 2)"
      ]
     },
     "execution_count": 2,
     "metadata": {},
     "output_type": "execute_result"
    }
   ],
   "source": [
    "path = 'object6/deformation/'\n",
    "#print(os.listdir(path))\n",
    "x1_train = pd.read_csv(path+'a6_x1_d_train.csv')\n",
    "x2_train = pd.read_csv(path+'a6_x2_d_train.csv')\n",
    "f1_train = pd.read_csv(path+'a6_f_d_train.csv')\n",
    "f1_test = pd.read_csv(path+'a6_f_d_test.csv')\n",
    "x1_test = pd.read_csv(path+'a6_x1_d_test.csv')\n",
    "x2_test = pd.read_csv(path+'a6_x2_d_test.csv')\n",
    "print(len(x1_train),len(x1_test),len(f1_train),len(f1_test))\n",
    "X_train = np.concatenate((x1_train,x2_train),axis=1)\n",
    "X_test = np.concatenate((x1_test,x2_test),axis=1)\n",
    "X_train.shape"
   ]
  },
  {
   "cell_type": "code",
   "execution_count": 3,
   "id": "ba6d4fc8",
   "metadata": {},
   "outputs": [],
   "source": [
    "def data(x,y,step=10):\n",
    "    x_train,y_train = [],[]\n",
    "    for i in range(4,len(y),step):\n",
    "        x_i = [0]*10\n",
    "        for j in range(5):\n",
    "            x_i[j]=x[i-j,0]\n",
    "            x_i[j+5]=x[i-j,1]\n",
    "        x_train.append(x_i)\n",
    "        y_train.append(y[i])\n",
    "    return np.array(x_train),np.array(y_train)\n"
   ]
  },
  {
   "cell_type": "code",
   "execution_count": 4,
   "id": "a9c3e6e5",
   "metadata": {},
   "outputs": [
    {
     "name": "stdout",
     "output_type": "stream",
     "text": [
      "(11645, 10) (11645, 1) (58219, 10) (58219, 1)\n"
     ]
    }
   ],
   "source": [
    "Y_train,y_test = np.array(f1_train),np.array(f1_test)\n",
    "x_train,y_train = data(X_train,Y_train)\n",
    "x_test,y_test = data(X_test,y_test,1)\n",
    "print(x_train.shape,y_train.shape,x_test.shape,y_test.shape)"
   ]
  },
  {
   "cell_type": "code",
   "execution_count": 5,
   "id": "af426a77",
   "metadata": {},
   "outputs": [
    {
     "name": "stdout",
     "output_type": "stream",
     "text": [
      "Time taken by Random Forest 0:00:14.749090\n",
      "Root Mean Squared error of Random Forest 0.10161559397021622\n"
     ]
    }
   ],
   "source": [
    "t1 = datetime.now()\n",
    "rf = RandomForestRegressor()\n",
    "rf.fit(x_train,y_train)\n",
    "t2 = datetime.now()\n",
    "print('Time taken by Random Forest',t2-t1)\n",
    "    \n",
    "y1_pred = rf.predict(x_test)\n",
    "print('Root Mean Squared error of Random Forest',sqrt(mean_squared_error(y_test,y1_pred)))\n",
    "\n",
    "re_rf = []\n",
    "error_rf = []\n",
    "for i in range(len(y_test)):\n",
    "    re_rf.append(abs(y1_pred[i]-y_test[i,0])/(0.1+ abs(y_test[i,0])))\n",
    "    error_rf.append(y1_pred[i]-y_test[i,0])"
   ]
  },
  {
   "cell_type": "code",
   "execution_count": null,
   "id": "b8a28a08",
   "metadata": {},
   "outputs": [],
   "source": [
    "cat = CatBoostRegressor()\n",
    "t1 = datetime.now()\n",
    "cat.fit(x_train,y_train)\n",
    "t2 = datetime.now()"
   ]
  },
  {
   "cell_type": "code",
   "execution_count": 7,
   "id": "8d48d121",
   "metadata": {},
   "outputs": [
    {
     "name": "stdout",
     "output_type": "stream",
     "text": [
      "Time taken by CATBOOST Model:  0:00:15.912568\n",
      "Root mean square error of CATBOOST Model:  0.088784389581765\n"
     ]
    }
   ],
   "source": [
    "print('Time taken by CATBOOST Model: ',t2-t1)\n",
    "y2_pred = cat.predict(x_test)\n",
    "print('Root mean square error of CATBOOST Model: ',sqrt(mean_squared_error(y_test,y2_pred)))\n",
    "    \n",
    "re_cat = []\n",
    "error_cat = []\n",
    "for i in range(len(y_test)):\n",
    "    re_cat.append(abs(y2_pred[i]-y_test[i,0])/(0.1+ abs(y_test[i,0])))\n",
    "    error_cat.append(y2_pred[i]-y_test[i,0])"
   ]
  },
  {
   "cell_type": "markdown",
   "id": "2f0c18b5",
   "metadata": {},
   "source": [
    "# Indentation"
   ]
  },
  {
   "cell_type": "code",
   "execution_count": 8,
   "id": "a7e6fce3",
   "metadata": {},
   "outputs": [
    {
     "name": "stdout",
     "output_type": "stream",
     "text": [
      "['a6_x2_indent_test.csv', 'a6_x1_indent_test.csv', 'a6_f_indent_test.csv', 'a6_x2_indent_train.csv', 'a6_f_indent_train.csv', 'a6_x1_indent_train.csv']\n",
      "135869 38801 135869 38801\n"
     ]
    },
    {
     "data": {
      "text/plain": [
       "(135869, 2)"
      ]
     },
     "execution_count": 8,
     "metadata": {},
     "output_type": "execute_result"
    }
   ],
   "source": [
    "path = 'object6/indent/'\n",
    "print(os.listdir(path))\n",
    "x1_train = pd.read_csv(path+'a6_x1_indent_train.csv')\n",
    "x2_train = pd.read_csv(path+'a6_x2_indent_train.csv')\n",
    "f1_train = pd.read_csv(path+'a6_f_indent_train.csv')\n",
    "f1_test = pd.read_csv(path+'a6_f_indent_test.csv')\n",
    "x1_test = pd.read_csv(path+'a6_x1_indent_test.csv')\n",
    "x2_test = pd.read_csv(path+'a6_x2_indent_test.csv')\n",
    "print(len(x1_train),len(x1_test),len(f1_train),len(f1_test))\n",
    "X_train = np.concatenate((x1_train,x2_train),axis=1)\n",
    "X_test = np.concatenate((x1_test,x2_test),axis=1)\n",
    "X_train.shape"
   ]
  },
  {
   "cell_type": "code",
   "execution_count": 9,
   "id": "e5d93733",
   "metadata": {},
   "outputs": [
    {
     "name": "stdout",
     "output_type": "stream",
     "text": [
      "(13587, 10) (13587, 1) (38797, 10) (38797, 1)\n"
     ]
    }
   ],
   "source": [
    "Y_train,y_test = np.array(f1_train),np.array(f1_test)\n",
    "x_train,y_train = data(X_train,Y_train)\n",
    "x_test,y_test = data(X_test,y_test,1)\n",
    "print(x_train.shape,y_train.shape,x_test.shape,y_test.shape)"
   ]
  },
  {
   "cell_type": "code",
   "execution_count": 10,
   "id": "5a37f83b",
   "metadata": {},
   "outputs": [
    {
     "name": "stdout",
     "output_type": "stream",
     "text": [
      "Time taken by Random Forest 0:00:19.188247\n",
      "Root Mean Squared error of Random Forest 0.07231828005370029\n"
     ]
    }
   ],
   "source": [
    "t1 = datetime.now()\n",
    "rf = RandomForestRegressor()\n",
    "rf.fit(x_train,y_train)\n",
    "t2 = datetime.now()\n",
    "print('Time taken by Random Forest',t2-t1)\n",
    "    \n",
    "y1_pred = rf.predict(x_test)\n",
    "print('Root Mean Squared error of Random Forest',sqrt(mean_squared_error(y_test,y1_pred)))\n",
    "\n",
    "re_rf = []\n",
    "error_rf = []\n",
    "for i in range(len(y_test)):\n",
    "    re_rf.append(abs(y1_pred[i]-y_test[i,0])/(0.1+ abs(y_test[i,0])))\n",
    "    error_rf.append(y1_pred[i]-y_test[i,0])"
   ]
  },
  {
   "cell_type": "code",
   "execution_count": null,
   "id": "b0ad9918",
   "metadata": {},
   "outputs": [],
   "source": [
    "cat = CatBoostRegressor()\n",
    "t1 = datetime.now()\n",
    "cat.fit(x_train,y_train)\n",
    "t2 = datetime.now()"
   ]
  },
  {
   "cell_type": "code",
   "execution_count": 12,
   "id": "ad042226",
   "metadata": {},
   "outputs": [
    {
     "name": "stdout",
     "output_type": "stream",
     "text": [
      "Time taken by CATBOOST Model:  0:00:12.943984\n",
      "Root mean square error of CATBOOST Model:  0.07858871634045875\n"
     ]
    }
   ],
   "source": [
    "print('Time taken by CATBOOST Model: ',t2-t1)\n",
    "y2_pred = cat.predict(x_test)\n",
    "print('Root mean square error of CATBOOST Model: ',sqrt(mean_squared_error(y_test,y2_pred)))\n",
    "    \n",
    "re_cat = []\n",
    "error_cat = []\n",
    "for i in range(len(y_test)):\n",
    "    re_cat.append(abs(y2_pred[i]-y_test[i,0])/(0.1+ abs(y_test[i,0])))\n",
    "    error_cat.append(y2_pred[i]-y_test[i,0])"
   ]
  },
  {
   "cell_type": "markdown",
   "id": "97ccfd6d",
   "metadata": {},
   "source": [
    "# Phase"
   ]
  },
  {
   "cell_type": "code",
   "execution_count": 13,
   "id": "22a26083",
   "metadata": {},
   "outputs": [
    {
     "name": "stdout",
     "output_type": "stream",
     "text": [
      "['a6_x1_phase_test.csv', 'a6_f_phase_train.csv', 'a6_x2_phase_test.csv', 'a6_x1_phase_train.csv', 'a6_f_phase_test.csv', 'a6_x2_phase_train.csv']\n",
      "94064 80606 94064 80606\n"
     ]
    },
    {
     "data": {
      "text/plain": [
       "(94064, 2)"
      ]
     },
     "execution_count": 13,
     "metadata": {},
     "output_type": "execute_result"
    }
   ],
   "source": [
    "path = 'object6/phase/'\n",
    "print(os.listdir(path))\n",
    "x1_train = pd.read_csv(path+'a6_x1_phase_train.csv')\n",
    "x2_train = pd.read_csv(path+'a6_x2_phase_train.csv')\n",
    "f1_train = pd.read_csv(path+'a6_f_phase_train.csv')\n",
    "f1_test = pd.read_csv(path+'a6_f_phase_test.csv')\n",
    "x1_test = pd.read_csv(path+'a6_x1_phase_test.csv')\n",
    "x2_test = pd.read_csv(path+'a6_x2_phase_test.csv')\n",
    "print(len(x1_train),len(x1_test),len(f1_train),len(f1_test))\n",
    "X_train = np.concatenate((x1_train,x2_train),axis=1)\n",
    "X_test = np.concatenate((x1_test,x2_test),axis=1)\n",
    "X_train.shape"
   ]
  },
  {
   "cell_type": "code",
   "execution_count": 14,
   "id": "7081cea3",
   "metadata": {},
   "outputs": [
    {
     "name": "stdout",
     "output_type": "stream",
     "text": [
      "(9406, 10) (9406, 1) (80602, 10) (80602, 1)\n"
     ]
    }
   ],
   "source": [
    "Y_train,y_test = np.array(f1_train),np.array(f1_test)\n",
    "x_train,y_train = data(X_train,Y_train)\n",
    "x_test,y_test = data(X_test,y_test,1)\n",
    "print(x_train.shape,y_train.shape,x_test.shape,y_test.shape)"
   ]
  },
  {
   "cell_type": "code",
   "execution_count": 15,
   "id": "ec5a2fd6",
   "metadata": {},
   "outputs": [
    {
     "name": "stdout",
     "output_type": "stream",
     "text": [
      "Time taken by Random Forest 0:00:11.413309\n",
      "Root Mean Squared error of Random Forest 0.11812456486537025\n"
     ]
    }
   ],
   "source": [
    "t1 = datetime.now()\n",
    "rf = RandomForestRegressor()\n",
    "rf.fit(x_train,y_train)\n",
    "t2 = datetime.now()\n",
    "print('Time taken by Random Forest',t2-t1)\n",
    "    \n",
    "y1_pred = rf.predict(x_test)\n",
    "print('Root Mean Squared error of Random Forest',sqrt(mean_squared_error(y_test,y1_pred)))\n",
    "\n",
    "re_rf = []\n",
    "error_rf = []\n",
    "for i in range(len(y_test)):\n",
    "    re_rf.append(abs(y1_pred[i]-y_test[i,0])/(0.1+ abs(y_test[i,0])))\n",
    "    error_rf.append(y1_pred[i]-y_test[i,0])"
   ]
  },
  {
   "cell_type": "code",
   "execution_count": null,
   "id": "62e76e90",
   "metadata": {},
   "outputs": [],
   "source": [
    "cat = CatBoostRegressor()\n",
    "t1 = datetime.now()\n",
    "cat.fit(x_train,y_train)\n",
    "t2 = datetime.now()"
   ]
  },
  {
   "cell_type": "code",
   "execution_count": 17,
   "id": "d525866a",
   "metadata": {},
   "outputs": [
    {
     "name": "stdout",
     "output_type": "stream",
     "text": [
      "Time taken by CATBOOST Model:  0:00:14.642760\n",
      "Root mean square error of CATBOOST Model:  0.07824355625335629\n"
     ]
    }
   ],
   "source": [
    "print('Time taken by CATBOOST Model: ',t2-t1)\n",
    "y2_pred = cat.predict(x_test)\n",
    "print('Root mean square error of CATBOOST Model: ',sqrt(mean_squared_error(y_test,y2_pred)))\n",
    "    \n",
    "re_cat = []\n",
    "error_cat = []\n",
    "for i in range(len(y_test)):\n",
    "    re_cat.append(abs(y2_pred[i]-y_test[i,0])/(0.1+ abs(y_test[i,0])))\n",
    "    error_cat.append(y2_pred[i]-y_test[i,0])"
   ]
  },
  {
   "cell_type": "markdown",
   "id": "ee6efcdc",
   "metadata": {},
   "source": [
    "# Mixed"
   ]
  },
  {
   "cell_type": "code",
   "execution_count": 18,
   "id": "ae09002b",
   "metadata": {},
   "outputs": [
    {
     "name": "stdout",
     "output_type": "stream",
     "text": [
      "['a6_f_mixed_train.csv', 'a6_f_mixed_test.csv', 'a6_x2_mixed_train.csv', 'a6_x1_mixed_train.csv', 'a6_x2_mixed_test.csv', 'a6_x1_mixed_test.csv']\n",
      "48777 125893 48777 125893\n"
     ]
    },
    {
     "data": {
      "text/plain": [
       "(48777, 2)"
      ]
     },
     "execution_count": 18,
     "metadata": {},
     "output_type": "execute_result"
    }
   ],
   "source": [
    "path = 'object6/mixed/'\n",
    "print(os.listdir(path))\n",
    "x1_train = pd.read_csv(path+'a6_x1_mixed_train.csv')\n",
    "x2_train = pd.read_csv(path+'a6_x2_mixed_train.csv')\n",
    "f1_train = pd.read_csv(path+'a6_f_mixed_train.csv')\n",
    "f1_test = pd.read_csv(path+'a6_f_mixed_test.csv')\n",
    "x1_test = pd.read_csv(path+'a6_x1_mixed_test.csv')\n",
    "x2_test = pd.read_csv(path+'a6_x2_mixed_test.csv')\n",
    "print(len(x1_train),len(x1_test),len(f1_train),len(f1_test))\n",
    "X_train = np.concatenate((x1_train,x2_train),axis=1)\n",
    "X_test = np.concatenate((x1_test,x2_test),axis=1)\n",
    "X_train.shape"
   ]
  },
  {
   "cell_type": "code",
   "execution_count": 19,
   "id": "00ea0140",
   "metadata": {},
   "outputs": [
    {
     "name": "stdout",
     "output_type": "stream",
     "text": [
      "(4878, 10) (4878, 1) (125889, 10) (125889, 1)\n"
     ]
    }
   ],
   "source": [
    "Y_train,y_test = np.array(f1_train),np.array(f1_test)\n",
    "x_train,y_train = data(X_train,Y_train)\n",
    "x_test,y_test = data(X_test,y_test,1)\n",
    "print(x_train.shape,y_train.shape,x_test.shape,y_test.shape)"
   ]
  },
  {
   "cell_type": "code",
   "execution_count": 20,
   "id": "12396bb2",
   "metadata": {},
   "outputs": [
    {
     "name": "stdout",
     "output_type": "stream",
     "text": [
      "Time taken by Random Forest 0:00:04.727006\n",
      "Root Mean Squared error of Random Forest 0.12657522899881435\n"
     ]
    }
   ],
   "source": [
    "t1 = datetime.now()\n",
    "rf = RandomForestRegressor()\n",
    "rf.fit(x_train,y_train)\n",
    "t2 = datetime.now()\n",
    "print('Time taken by Random Forest',t2-t1)\n",
    "    \n",
    "y1_pred = rf.predict(x_test)\n",
    "print('Root Mean Squared error of Random Forest',sqrt(mean_squared_error(y_test,y1_pred)))\n",
    "\n",
    "re_rf = []\n",
    "error_rf = []\n",
    "for i in range(len(y_test)):\n",
    "    re_rf.append(abs(y1_pred[i]-y_test[i,0])/(0.1+ abs(y_test[i,0])))\n",
    "    error_rf.append(y1_pred[i]-y_test[i,0])"
   ]
  },
  {
   "cell_type": "code",
   "execution_count": null,
   "id": "0d0c3425",
   "metadata": {},
   "outputs": [],
   "source": [
    "cat = CatBoostRegressor()\n",
    "t1 = datetime.now()\n",
    "cat.fit(x_train,y_train)\n",
    "t2 = datetime.now()"
   ]
  },
  {
   "cell_type": "code",
   "execution_count": 22,
   "id": "c078f496",
   "metadata": {},
   "outputs": [
    {
     "name": "stdout",
     "output_type": "stream",
     "text": [
      "Time taken by CATBOOST Model:  0:00:18.289816\n",
      "Root mean square error of CATBOOST Model:  0.09553047290137205\n"
     ]
    }
   ],
   "source": [
    "print('Time taken by CATBOOST Model: ',t2-t1)\n",
    "y2_pred = cat.predict(x_test)\n",
    "print('Root mean square error of CATBOOST Model: ',sqrt(mean_squared_error(y_test,y2_pred)))\n",
    "    \n",
    "re_cat = []\n",
    "error_cat = []\n",
    "for i in range(len(y_test)):\n",
    "    re_cat.append(abs(y2_pred[i]-y_test[i,0])/(0.1+ abs(y_test[i,0])))\n",
    "    error_cat.append(y2_pred[i]-y_test[i,0])"
   ]
  },
  {
   "cell_type": "code",
   "execution_count": null,
   "id": "9d3e87c4",
   "metadata": {},
   "outputs": [],
   "source": []
  }
 ],
 "metadata": {
  "kernelspec": {
   "display_name": "Python 3 (ipykernel)",
   "language": "python",
   "name": "python3"
  },
  "language_info": {
   "codemirror_mode": {
    "name": "ipython",
    "version": 3
   },
   "file_extension": ".py",
   "mimetype": "text/x-python",
   "name": "python",
   "nbconvert_exporter": "python",
   "pygments_lexer": "ipython3",
   "version": "3.7.3"
  }
 },
 "nbformat": 4,
 "nbformat_minor": 5
}
