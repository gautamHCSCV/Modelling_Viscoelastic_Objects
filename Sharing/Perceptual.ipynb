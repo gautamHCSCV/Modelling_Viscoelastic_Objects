{
 "cells": [
  {
   "cell_type": "code",
   "execution_count": 1,
   "id": "de02f74e",
   "metadata": {},
   "outputs": [],
   "source": [
    "import pandas as pd\n",
    "import numpy as np\n",
    "from sklearn.metrics import mean_squared_error\n",
    "from sklearn.ensemble import RandomForestRegressor\n",
    "import os\n",
    "from datetime import datetime\n",
    "from collections import defaultdict\n",
    "import math"
   ]
  },
  {
   "cell_type": "code",
   "execution_count": 2,
   "id": "0f65e24a",
   "metadata": {},
   "outputs": [
    {
     "data": {
      "text/html": [
       "<div>\n",
       "<style scoped>\n",
       "    .dataframe tbody tr th:only-of-type {\n",
       "        vertical-align: middle;\n",
       "    }\n",
       "\n",
       "    .dataframe tbody tr th {\n",
       "        vertical-align: top;\n",
       "    }\n",
       "\n",
       "    .dataframe thead th {\n",
       "        text-align: right;\n",
       "    }\n",
       "</style>\n",
       "<table border=\"1\" class=\"dataframe\">\n",
       "  <thead>\n",
       "    <tr style=\"text-align: right;\">\n",
       "      <th></th>\n",
       "      <th>55</th>\n",
       "      <th>1077</th>\n",
       "      <th>0.010543</th>\n",
       "      <th>0</th>\n",
       "    </tr>\n",
       "  </thead>\n",
       "  <tbody>\n",
       "    <tr>\n",
       "      <th>0</th>\n",
       "      <td>55</td>\n",
       "      <td>1267</td>\n",
       "      <td>0.010464</td>\n",
       "      <td>-0.0024</td>\n",
       "    </tr>\n",
       "    <tr>\n",
       "      <th>1</th>\n",
       "      <td>55</td>\n",
       "      <td>1409</td>\n",
       "      <td>0.010387</td>\n",
       "      <td>-0.0037</td>\n",
       "    </tr>\n",
       "    <tr>\n",
       "      <th>2</th>\n",
       "      <td>55</td>\n",
       "      <td>1532</td>\n",
       "      <td>0.010316</td>\n",
       "      <td>-0.0037</td>\n",
       "    </tr>\n",
       "    <tr>\n",
       "      <th>3</th>\n",
       "      <td>55</td>\n",
       "      <td>1646</td>\n",
       "      <td>0.010245</td>\n",
       "      <td>0.0000</td>\n",
       "    </tr>\n",
       "    <tr>\n",
       "      <th>4</th>\n",
       "      <td>55</td>\n",
       "      <td>1710</td>\n",
       "      <td>0.010200</td>\n",
       "      <td>-0.0025</td>\n",
       "    </tr>\n",
       "  </tbody>\n",
       "</table>\n",
       "</div>"
      ],
      "text/plain": [
       "   55  1077  0.010543       0\n",
       "0  55  1267  0.010464 -0.0024\n",
       "1  55  1409  0.010387 -0.0037\n",
       "2  55  1532  0.010316 -0.0037\n",
       "3  55  1646  0.010245  0.0000\n",
       "4  55  1710  0.010200 -0.0025"
      ]
     },
     "execution_count": 2,
     "metadata": {},
     "output_type": "execute_result"
    }
   ],
   "source": [
    "path = 'Korean_data/'\n",
    "z = pd.read_csv(path+'imp_pos_percep.csv')\n",
    "f = pd.read_csv(path+'imp_force_percp.csv')\n",
    "z_test = pd.read_csv(path+'imp_pos_percep_test.csv')\n",
    "f_test = pd.read_csv(path+'imp_force_percp_test.csv')\n",
    "z.head()"
   ]
  },
  {
   "cell_type": "code",
   "execution_count": 3,
   "id": "8de21b6e",
   "metadata": {},
   "outputs": [
    {
     "data": {
      "text/html": [
       "<div>\n",
       "<style scoped>\n",
       "    .dataframe tbody tr th:only-of-type {\n",
       "        vertical-align: middle;\n",
       "    }\n",
       "\n",
       "    .dataframe tbody tr th {\n",
       "        vertical-align: top;\n",
       "    }\n",
       "\n",
       "    .dataframe thead th {\n",
       "        text-align: right;\n",
       "    }\n",
       "</style>\n",
       "<table border=\"1\" class=\"dataframe\">\n",
       "  <thead>\n",
       "    <tr style=\"text-align: right;\">\n",
       "      <th></th>\n",
       "      <th>0.01061</th>\n",
       "      <th>10.61</th>\n",
       "    </tr>\n",
       "  </thead>\n",
       "  <tbody>\n",
       "    <tr>\n",
       "      <th>0</th>\n",
       "      <td>0.01061</td>\n",
       "      <td>0.0</td>\n",
       "    </tr>\n",
       "    <tr>\n",
       "      <th>1</th>\n",
       "      <td>0.01061</td>\n",
       "      <td>0.0</td>\n",
       "    </tr>\n",
       "    <tr>\n",
       "      <th>2</th>\n",
       "      <td>0.01061</td>\n",
       "      <td>0.0</td>\n",
       "    </tr>\n",
       "    <tr>\n",
       "      <th>3</th>\n",
       "      <td>0.01061</td>\n",
       "      <td>0.0</td>\n",
       "    </tr>\n",
       "    <tr>\n",
       "      <th>4</th>\n",
       "      <td>0.01061</td>\n",
       "      <td>0.0</td>\n",
       "    </tr>\n",
       "  </tbody>\n",
       "</table>\n",
       "</div>"
      ],
      "text/plain": [
       "   0.01061  10.61\n",
       "0  0.01061    0.0\n",
       "1  0.01061    0.0\n",
       "2  0.01061    0.0\n",
       "3  0.01061    0.0\n",
       "4  0.01061    0.0"
      ]
     },
     "execution_count": 3,
     "metadata": {},
     "output_type": "execute_result"
    }
   ],
   "source": [
    "X_train = pd.read_csv(path+'imp_pos_percep_upd_train.csv')\n",
    "Y_train = pd.read_csv(path+'imp_force_percp_upd_train.csv')\n",
    "X_train.head()"
   ]
  },
  {
   "cell_type": "code",
   "execution_count": 4,
   "id": "44221123",
   "metadata": {},
   "outputs": [],
   "source": [
    "x_train,y_train = np.array(X_train),np.array(Y_train)\n",
    "x_test,y_test = np.array(z_test.iloc[:,:]),np.array(f_test.iloc[:,0])"
   ]
  },
  {
   "cell_type": "code",
   "execution_count": 5,
   "id": "e835b3ec",
   "metadata": {},
   "outputs": [
    {
     "data": {
      "text/plain": [
       "((75991, 2), (160036, 2), (75991, 1), (160036,))"
      ]
     },
     "execution_count": 5,
     "metadata": {},
     "output_type": "execute_result"
    }
   ],
   "source": [
    "x_train.shape,x_test.shape, y_train.shape,y_test.shape"
   ]
  },
  {
   "cell_type": "code",
   "execution_count": 6,
   "id": "4ab8e822",
   "metadata": {},
   "outputs": [],
   "source": [
    "from scipy import *\n",
    "from scipy.linalg import norm, pinv\n",
    "import math\n",
    " \n",
    "from matplotlib import pyplot as plt\n",
    " \n",
    "class RBF:\n",
    "     \n",
    "    def __init__(self, indim, numCenters, outdim):\n",
    "        self.indim = indim\n",
    "        self.outdim = outdim\n",
    "        self.numCenters = numCenters\n",
    "        self.centers = [np.random.uniform(-1, 1, indim) for i in range(numCenters)]\n",
    "        self.beta = 8\n",
    "        self.W = np.random.random((self.numCenters, self.outdim))\n",
    "         \n",
    "    def _basisfunc(self, c, d):\n",
    "        assert len(d) == self.indim\n",
    "        return norm(c-d)**3\n",
    "     \n",
    "    def _calcAct(self, X):\n",
    "        # calculate activations of RBFs\n",
    "        G = np.zeros((X.shape[0], self.numCenters), float)\n",
    "        for ci, c in enumerate(self.centers):\n",
    "            for xi, x in enumerate(X):\n",
    "                G[xi,ci] = self._basisfunc(c, x)\n",
    "        return G\n",
    "     \n",
    "    def train(self, X, Y):\n",
    "        \"\"\" X: matrix of dimensions n x indim \n",
    "            y: column vector of dimension n x 1 \"\"\"\n",
    "         \n",
    "        # choose random center vectors from training set\n",
    "        rnd_idx = np.random.permutation(X.shape[0])[:self.numCenters]\n",
    "        self.centers = [X[i,:] for i in rnd_idx]\n",
    "         \n",
    "        #print(\"center\", self.centers)\n",
    "        # calculate activations of RBFs\n",
    "        G = self._calcAct(X)\n",
    "        #print(G)\n",
    "         \n",
    "        # calculate output weights (pseudoinverse)\n",
    "        self.W = np.dot(pinv(G), Y)\n",
    "         \n",
    "    def test(self, X):\n",
    "        \"\"\" X: matrix of dimensions n x indim \"\"\"\n",
    "         \n",
    "        G = self._calcAct(X)\n",
    "        Y = np.dot(G, self.W)\n",
    "        return Y"
   ]
  },
  {
   "cell_type": "code",
   "execution_count": 7,
   "id": "7b4cd700",
   "metadata": {},
   "outputs": [
    {
     "name": "stdout",
     "output_type": "stream",
     "text": [
      "\n",
      "\n",
      "Time taken by RBF Model:  0:01:11.220566\n",
      "Root mean square error of RBF Model:  0.4962412530709763\n",
      "Minimum Error = [6.73271912e-06]\n",
      "Maximum Error = [7.78723796]\n",
      "Median Value of Error = [0.26498687]\n"
     ]
    }
   ],
   "source": [
    "# RBF MODEL\n",
    "\n",
    "if __name__==\"__main__\":\n",
    "    rbf = RBF(2, 100, 1)\n",
    "    t1 = datetime.now()\n",
    "    rbf.train(x_train, y_train)\n",
    "    t2 = datetime.now()\n",
    "    \n",
    "    print('\\n\\nTime taken by RBF Model: ',t2-t1)\n",
    "    y1_pred = rbf.test(x_test)\n",
    "    y2 = y1_pred\n",
    "    print('Root mean square error of RBF Model: ',math.sqrt(mean_squared_error(y_test,y1_pred)))\n",
    "    \n",
    "    error5 = []\n",
    "    for i in range(len(y_test)):\n",
    "        error5.append(abs(y1_pred[i]-y_test[i]))\n",
    "    print('Minimum Error =',min(error5))\n",
    "    print('Maximum Error =',max(error5))\n",
    "    error6 = sorted(error5)\n",
    "    print('Median Value of Error =',error6[len(error5)//2])"
   ]
  },
  {
   "cell_type": "code",
   "execution_count": 8,
   "id": "f1dbaf91",
   "metadata": {},
   "outputs": [],
   "source": [
    "z = pd.read_csv(path+'imp_pos_percep_rf.csv')\n",
    "f = pd.read_csv(path+'imp_force_percp_rf.csv')\n",
    "x_test = np.array(pd.read_csv(path+'imp_pos_percep_rf_test.csv'))"
   ]
  },
  {
   "cell_type": "code",
   "execution_count": 9,
   "id": "3db9f722",
   "metadata": {},
   "outputs": [
    {
     "data": {
      "text/plain": [
       "((1518, 10), (1518,), (160036, 10), (160036,))"
      ]
     },
     "execution_count": 9,
     "metadata": {},
     "output_type": "execute_result"
    }
   ],
   "source": [
    "x_train,y_train = np.array(z.iloc[:,2:]),np.array(f.iloc[:,2])\n",
    "x_train.shape,y_train.shape,x_test.shape,y_test.shape"
   ]
  },
  {
   "cell_type": "code",
   "execution_count": 10,
   "id": "dd4781ff",
   "metadata": {},
   "outputs": [
    {
     "name": "stdout",
     "output_type": "stream",
     "text": [
      "\n",
      "\n",
      "Time taken by Random Forest Model:  0:00:00.918761\n",
      "Root mean square error of RBF Model:  0.17369574152095885\n",
      "Minimum Error = 2.000000000279556e-06\n",
      "Maximum Error = 0.4378480000000029\n",
      "Median Value of Error = 0.1398669999999962\n"
     ]
    }
   ],
   "source": [
    "# Random Forest\n",
    "rf = RandomForestRegressor()\n",
    "t1 = datetime.now()\n",
    "rf.fit(x_train, y_train)\n",
    "t2 = datetime.now()\n",
    "print('\\n\\nTime taken by Random Forest Model: ',t2-t1)\n",
    "\n",
    "if __name__ == \"__main__\":\n",
    "    y1_pred = rf.predict(x_test)\n",
    "    y2 = y1_pred\n",
    "    print('Root mean square error of RBF Model: ',math.sqrt(mean_squared_error(y_test,y1_pred)))\n",
    "    \n",
    "    error5 = []\n",
    "    for i in range(len(y_test)):\n",
    "        error5.append(abs(y1_pred[i]-y_test[i]))\n",
    "    print('Minimum Error =',min(error5))\n",
    "    print('Maximum Error =',max(error5))\n",
    "    error6 = sorted(error5)\n",
    "    print('Median Value of Error =',error6[len(error5)//2])"
   ]
  },
  {
   "cell_type": "code",
   "execution_count": null,
   "id": "6c090147",
   "metadata": {},
   "outputs": [],
   "source": []
  }
 ],
 "metadata": {
  "kernelspec": {
   "display_name": "Python 3 (ipykernel)",
   "language": "python",
   "name": "python3"
  },
  "language_info": {
   "codemirror_mode": {
    "name": "ipython",
    "version": 3
   },
   "file_extension": ".py",
   "mimetype": "text/x-python",
   "name": "python",
   "nbconvert_exporter": "python",
   "pygments_lexer": "ipython3",
   "version": "3.7.3"
  }
 },
 "nbformat": 4,
 "nbformat_minor": 5
}
